{
 "cells": [
  {
   "cell_type": "code",
   "execution_count": 41,
   "metadata": {},
   "outputs": [
    {
     "data": {
      "text/plain": [
       "['label_encoder_htr.pkl']"
      ]
     },
     "execution_count": 41,
     "metadata": {},
     "output_type": "execute_result"
    }
   ],
   "source": [
    "import pandas as pd\n",
    "import numpy as np\n",
    "import matplotlib.pyplot as plt\n",
    "from sklearn.tree import DecisionTreeClassifier\n",
    "from sklearn.preprocessing import LabelEncoder \n",
    "from sklearn.model_selection import train_test_split\n",
    "from sklearn.metrics import accuracy_score\n",
    "import joblib\n",
    "\n",
    "\n",
    "epl_data = pd.read_csv('epl_results.csv')\n",
    "\n",
    "label_encoder_home = LabelEncoder()\n",
    "label_encoder_away = LabelEncoder()\n",
    "epl_data['HomeTeam_encoded'] = label_encoder_home.fit_transform(epl_data['HomeTeam'])\n",
    "epl_data[\"AwayTeam_encoded\"] = label_encoder_away.fit_transform(epl_data['AwayTeam'])\n",
    "\n",
    "\n",
    "label_encoder_ftr = LabelEncoder()\n",
    "label_encoder_htr = LabelEncoder()\n",
    "epl_data['FTR_encoded'] = label_encoder_ftr.fit_transform(epl_data['FTR'])\n",
    "epl_data['HTR_encoded'] = label_encoder_htr.fit_transform(epl_data['HTR'])\n",
    "\n",
    "\n",
    "\n",
    "X = epl_data.drop(columns=[\"FTR\", \"Date\", \"Referee\", \"Time\", \"HTR\"])\n",
    "X = X[[\"HomeTeam_encoded\", \"AwayTeam_encoded\", \"FTHG\", \"FTAG\", \"HTHG\", \"HTAG\", \"HST\", \"AST\", \"HF\", \"AF\", \"HC\", \"AC\", \"HY\", \"AY\", \"HR\", \"AR\"]]\n",
    "y = epl_data[[\"FTR_encoded\"]]\n",
    "X_train, X_test, y_train, y_test = train_test_split(X, y, test_size=0.2)\n",
    "\n",
    "\n",
    "\n",
    "model = DecisionTreeClassifier()\n",
    "model.fit(X_train, y_train)\n",
    "predictions = model.predict(X_test)\n",
    "score = accuracy_score(y_test, predictions)\n",
    "score\n",
    "joblib.dump(model, 'epl_decision_tree_model.pkl')\n",
    "joblib.dump(label_encoder_home, 'label_encoder_home.pkl')\n",
    "joblib.dump(label_encoder_away, 'label_encoder_away.pkl')\n",
    "joblib.dump(label_encoder_ftr, 'label_encoder_ftr.pkl')\n",
    "joblib.dump(label_encoder_htr, 'label_encoder_htr.pkl')\n",
    "\n",
    "\n"
   ]
  }
 ],
 "metadata": {
  "kernelspec": {
   "display_name": "Python 3",
   "language": "python",
   "name": "python3"
  },
  "language_info": {
   "codemirror_mode": {
    "name": "ipython",
    "version": 3
   },
   "file_extension": ".py",
   "mimetype": "text/x-python",
   "name": "python",
   "nbconvert_exporter": "python",
   "pygments_lexer": "ipython3",
   "version": "3.12.2"
  }
 },
 "nbformat": 4,
 "nbformat_minor": 2
}
