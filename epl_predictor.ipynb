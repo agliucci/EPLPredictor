{
 "cells": [
  {
   "cell_type": "code",
   "execution_count": 1,
   "metadata": {},
   "outputs": [
    {
     "data": {
      "text/plain": [
       "1.0"
      ]
     },
     "execution_count": 1,
     "metadata": {},
     "output_type": "execute_result"
    }
   ],
   "source": [
    "import pandas as pd\n",
    "import numpy as np\n",
    "import matplotlib.pyplot as plt\n",
    "from sklearn.tree import DecisionTreeClassifier\n",
    "from sklearn.preprocessing import LabelEncoder \n",
    "from sklearn.model_selection import train_test_split\n",
    "from sklearn.metrics import accuracy_score\n",
    "import joblib\n",
    "\n",
    "\n",
    "epl_data = pd.read_csv('epl_results.csv')\n",
    "\n",
    "label_encoder = LabelEncoder()\n",
    "teams = list(epl_data['HomeTeam'].unique()) + list(epl_data['AwayTeam'].unique())\n",
    "label_encoder.fit(teams)\n",
    "epl_data['HomeTeam'] = label_encoder.transform(epl_data['HomeTeam'])\n",
    "epl_data['AwayTeam'] = label_encoder.transform(epl_data['AwayTeam'])\n",
    "\n",
    "outcomes = list(epl_data['FTR'].unique()) + list(epl_data['HTR'].unique())\n",
    "label_encoder.fit(outcomes)\n",
    "epl_data['FTR_encoded'] = label_encoder.transform(epl_data['FTR'])\n",
    "epl_data['HTR_encoded'] = label_encoder.transform(epl_data['HTR'])\n",
    "\n",
    "\n",
    "X = epl_data.drop(columns=[\"FTR\", \"Date\", \"Referee\", \"Time\", \"HTR\"])\n",
    "X = X[[\"HomeTeam\", \"AwayTeam\", \"FTHG\", \"FTAG\", \"HTHG\", \"HTAG\", \"HST\", \"AST\", \"HF\", \"AF\", \"HC\", \"AC\", \"HY\", \"AY\", \"HR\", \"AR\"]]\n",
    "y = epl_data[[\"FTR_encoded\"]]\n",
    "X_train, X_test, y_train, y_test = train_test_split(X, y, test_size=0.2)\n",
    "\n",
    "\n",
    "\n",
    "model = DecisionTreeClassifier()\n",
    "model.fit(X_train, y_train)\n",
    "predictions = model.predict(X_test)\n",
    "score = accuracy_score(y_test, predictions)\n",
    "\n",
    "\n",
    "joblib.dump(model, 'epl_decision_tree_model.pkl')\n",
    "\n",
    "\n",
    " "
   ]
  }
 ],
 "metadata": {
  "kernelspec": {
   "display_name": "Python 3",
   "language": "python",
   "name": "python3"
  },
  "language_info": {
   "codemirror_mode": {
    "name": "ipython",
    "version": 3
   },
   "file_extension": ".py",
   "mimetype": "text/x-python",
   "name": "python",
   "nbconvert_exporter": "python",
   "pygments_lexer": "ipython3",
   "version": "3.12.2"
  }
 },
 "nbformat": 4,
 "nbformat_minor": 2
}
